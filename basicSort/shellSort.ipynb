{
 "cells": [
  {
   "cell_type": "code",
   "execution_count": 119,
   "metadata": {},
   "outputs": [],
   "source": [
    "import random\n",
    "import time"
   ]
  },
  {
   "cell_type": "code",
   "execution_count": 120,
   "metadata": {},
   "outputs": [],
   "source": [
    "def shellSort(arr,gap=None,descend=False):\n",
    "    '''\n",
    "    This algorithm is an improve version of insertionSort\n",
    "    Input:\n",
    "    arr: input array\n",
    "    gap: the step size to split array\n",
    "    descend: the order of sorting. True for descend while False for ascend, default is ascend.\n",
    "    Output:\n",
    "    arr: sorted array\n",
    "    这是个加强版的插入排序。主要就是通过分组来加速排序过程。插入排序中，后面的元素每次循环中只能向前移动一个元素。在希尔排序中，通过gap给数组分组，\n",
    "    最后一个元素可以移动到当前分组最前面的位置。至于时间复杂度，最坏情况下是n平方，最好情况下是n，平均是n的1.3次方。时间复杂度取决于增量序列\n",
    "    （本例是通过减半来获得序列）。\n",
    "    '''\n",
    "    arrLen = len(arr)\n",
    "    if gap is None:\n",
    "        gap = math.floor(arrLen/2)\n",
    "    if descend == True:\n",
    "        sign = -1\n",
    "    else:\n",
    "        sign = 1\n",
    "    while(gap!=0):\n",
    "        for i in range(gap,arrLen):\n",
    "            for j in range(i-gap,-1,-gap):\n",
    "                if sign * (arr[j+gap] - arr[j]) < 0:\n",
    "                    tmp = arr[j]\n",
    "                    arr[j] = arr[j+gap]\n",
    "                    arr[j+gap] = tmp\n",
    "        gap = math.floor(gap/2)\n",
    "    return arr"
   ]
  },
  {
   "cell_type": "code",
   "execution_count": 123,
   "metadata": {},
   "outputs": [
    {
     "name": "stdout",
     "output_type": "stream",
     "text": [
      "0.002037462999999974\n"
     ]
    }
   ],
   "source": [
    "a = random.sample(range(0,10000),200)\n",
    "sumN = 0\n",
    "for i in range(1000):\n",
    "    startT = time.clock()\n",
    "    shellSort(a,True)\n",
    "    endT = time.clock()\n",
    "    sumN += endT-startT\n",
    "print(sumN / 1000)"
   ]
  },
  {
   "cell_type": "code",
   "execution_count": null,
   "metadata": {},
   "outputs": [],
   "source": []
  }
 ],
 "metadata": {
  "kernelspec": {
   "display_name": "Python 3",
   "language": "python",
   "name": "python3"
  },
  "language_info": {
   "codemirror_mode": {
    "name": "ipython",
    "version": 3
   },
   "file_extension": ".py",
   "mimetype": "text/x-python",
   "name": "python",
   "nbconvert_exporter": "python",
   "pygments_lexer": "ipython3",
   "version": "3.6.7"
  }
 },
 "nbformat": 4,
 "nbformat_minor": 2
}
