{
 "cells": [
  {
   "cell_type": "code",
   "execution_count": 38,
   "metadata": {},
   "outputs": [],
   "source": [
    "def quickSort(arr,start,end,descend=False):\n",
    "    '''\n",
    "    This is quick sort algorithm\n",
    "    Input:\n",
    "    arr: the input array\n",
    "    start: the start position\n",
    "    end: the end position\n",
    "    descend: the order of sorting, True for descend while False for ascend, default is ascend.\n",
    "    Output:\n",
    "    arr: the sorted array\n",
    "    快速排序利用分治的方法，先找到一个基准，然后设立一前一后两个指针。过程中，两个指针向对方靠近并将大于基准数字的数放在右边，小于的数放在左边。\n",
    "    最后当两个指针重合时，这个位置就是基准数的位置。最坏情况下是n的平方，其他都是nlog2(n)。\n",
    "    '''\n",
    "    i = start\n",
    "    j = end\n",
    "    if descend == True:\n",
    "        sign = -1\n",
    "    else:\n",
    "        sign = 1\n",
    "    if i >= j:\n",
    "        return None\n",
    "    base = arr[start]\n",
    "    while(i!=j):\n",
    "        while(sign * (arr[j]-base)>0 and i < j):\n",
    "            j -= 1\n",
    "        tmp = arr[i]\n",
    "        arr[i] = arr[j]\n",
    "        arr[j] = tmp\n",
    "        while(sign * (arr[i]-base)<=0 and i < j):\n",
    "            i += 1\n",
    "        if i < j:\n",
    "            tmp = arr[j]\n",
    "            arr[j] = arr[i]\n",
    "            arr[i] = tmp\n",
    "    arr[i] = base\n",
    "    quickSort(arr,start,i-1,descend)\n",
    "    quickSort(arr,i+1,end,descend)\n",
    "    return arr"
   ]
  },
  {
   "cell_type": "code",
   "execution_count": 40,
   "metadata": {},
   "outputs": [
    {
     "data": {
      "text/plain": [
       "[6, 4, 3, 2, 1]"
      ]
     },
     "execution_count": 40,
     "metadata": {},
     "output_type": "execute_result"
    }
   ],
   "source": [
    "a = [3,4,1,6,2]\n",
    "quickSort(a,0,len(a)-1,True)"
   ]
  },
  {
   "cell_type": "code",
   "execution_count": null,
   "metadata": {},
   "outputs": [],
   "source": []
  }
 ],
 "metadata": {
  "kernelspec": {
   "display_name": "Python 3",
   "language": "python",
   "name": "python3"
  },
  "language_info": {
   "codemirror_mode": {
    "name": "ipython",
    "version": 3
   },
   "file_extension": ".py",
   "mimetype": "text/x-python",
   "name": "python",
   "nbconvert_exporter": "python",
   "pygments_lexer": "ipython3",
   "version": "3.6.7"
  }
 },
 "nbformat": 4,
 "nbformat_minor": 2
}
