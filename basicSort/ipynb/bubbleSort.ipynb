{
 "cells": [
  {
   "cell_type": "code",
   "execution_count": 18,
   "metadata": {},
   "outputs": [],
   "source": [
    "def bubbleSort(arr,descend=False):\n",
    "    '''\n",
    "    This algorithm is bubble sorting algorithm. \n",
    "    Input:\n",
    "    arr: the input array\n",
    "    descend: the order of sorting, True for descend while False for ascend, default is ascend.\n",
    "    Output:\n",
    "    arr: the sorted array\n",
    "    每次遍历都保证右边的数比左边大，时间复杂度n的平方\n",
    "    '''\n",
    "    if descend == True:\n",
    "        sign = -1\n",
    "    else:\n",
    "        sign = 1\n",
    "    arrLen = len(arr)\n",
    "    for i in range(0,arrLen-1):\n",
    "        for j in range(0,arrLen-i-1):\n",
    "            if sign * (arr[j] - arr[j+1]) > 0:\n",
    "                tmp = arr[j]\n",
    "                arr[j] = arr[j+1]\n",
    "                arr[j+1] = tmp\n",
    "    return arr"
   ]
  },
  {
   "cell_type": "code",
   "execution_count": 20,
   "metadata": {},
   "outputs": [
    {
     "name": "stdout",
     "output_type": "stream",
     "text": [
      "[95, 57, 12, 24, 48, 79, 44, 90, 72, 97, 7, 45, 88, 9, 17, 49, 70, 35, 34, 69]\n"
     ]
    },
    {
     "data": {
      "text/plain": [
       "[97, 95, 90, 88, 79, 72, 70, 69, 57, 49, 48, 45, 44, 35, 34, 24, 17, 12, 9, 7]"
      ]
     },
     "execution_count": 20,
     "metadata": {},
     "output_type": "execute_result"
    }
   ],
   "source": [
    "import random\n",
    "a = random.sample(range(0,100),20)\n",
    "print(a)\n",
    "bubbleSort(a,True)"
   ]
  },
  {
   "cell_type": "code",
   "execution_count": 17,
   "metadata": {},
   "outputs": [
    {
     "data": {
      "text/plain": [
       "225000"
      ]
     },
     "execution_count": 17,
     "metadata": {},
     "output_type": "execute_result"
    }
   ],
   "source": [
    "250 * 900"
   ]
  },
  {
   "cell_type": "code",
   "execution_count": null,
   "metadata": {},
   "outputs": [],
   "source": []
  }
 ],
 "metadata": {
  "kernelspec": {
   "display_name": "Python 3",
   "language": "python",
   "name": "python3"
  },
  "language_info": {
   "codemirror_mode": {
    "name": "ipython",
    "version": 3
   },
   "file_extension": ".py",
   "mimetype": "text/x-python",
   "name": "python",
   "nbconvert_exporter": "python",
   "pygments_lexer": "ipython3",
   "version": "3.6.7"
  }
 },
 "nbformat": 4,
 "nbformat_minor": 2
}
