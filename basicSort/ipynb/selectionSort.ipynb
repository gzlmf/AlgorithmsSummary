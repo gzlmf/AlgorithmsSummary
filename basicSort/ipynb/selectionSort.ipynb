{
 "cells": [
  {
   "cell_type": "code",
   "execution_count": 18,
   "metadata": {},
   "outputs": [],
   "source": [
    "import random\n",
    "import time\n",
    "def selectSort(arr,descend=False):\n",
    "    '''\n",
    "    This algorithm is selection sort.\n",
    "    Input:\n",
    "    arr: input array\n",
    "    descend: the order of sorting. True for descend while False for ascend, default is ascend.\n",
    "    Output:\n",
    "    arr: sorted array\n",
    "    这个算法就是通过当前数字和这个数字之后的数进行比较找到他们当中最小的数（而且比当前数字要小），然后进行交换。最坏、最好、平均时间复杂度都是n的平方\n",
    "    '''\n",
    "    if descend == True:\n",
    "        sign = -1\n",
    "    else:\n",
    "        sign = 1\n",
    "    for i in range(len(arr)):\n",
    "        target = i\n",
    "        for j in range(i,len(arr)):\n",
    "            if sign * (arr[target] - arr[j]) > 0:\n",
    "                target = j\n",
    "        tmp = arr[target]\n",
    "        arr[target] = arr[i]\n",
    "        arr[i] = tmp\n",
    "    return arr"
   ]
  },
  {
   "cell_type": "code",
   "execution_count": 23,
   "metadata": {},
   "outputs": [
    {
     "name": "stdout",
     "output_type": "stream",
     "text": [
      "0.0022274209999999977\n"
     ]
    }
   ],
   "source": [
    "a = random.sample(range(0,10000),200)\n",
    "sumN = 0\n",
    "for i in range(1000):\n",
    "    startT = time.clock()\n",
    "    selectSort(a,True)\n",
    "    endT = time.clock()\n",
    "    sumN += endT-startT\n",
    "print(sumN / 1000)"
   ]
  },
  {
   "cell_type": "code",
   "execution_count": null,
   "metadata": {},
   "outputs": [],
   "source": []
  },
  {
   "cell_type": "code",
   "execution_count": null,
   "metadata": {},
   "outputs": [],
   "source": []
  }
 ],
 "metadata": {
  "kernelspec": {
   "display_name": "Python 3",
   "language": "python",
   "name": "python3"
  },
  "language_info": {
   "codemirror_mode": {
    "name": "ipython",
    "version": 3
   },
   "file_extension": ".py",
   "mimetype": "text/x-python",
   "name": "python",
   "nbconvert_exporter": "python",
   "pygments_lexer": "ipython3",
   "version": "3.6.7"
  }
 },
 "nbformat": 4,
 "nbformat_minor": 2
}
