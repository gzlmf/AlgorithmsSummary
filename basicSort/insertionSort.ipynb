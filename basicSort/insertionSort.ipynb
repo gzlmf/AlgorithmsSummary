{
 "cells": [
  {
   "cell_type": "code",
   "execution_count": 71,
   "metadata": {},
   "outputs": [],
   "source": [
    "import numpy as np\n",
    "import random\n",
    "import time"
   ]
  },
  {
   "cell_type": "code",
   "execution_count": 94,
   "metadata": {},
   "outputs": [],
   "source": [
    "def insertionSort(arr,reverse=False):\n",
    "    '''\n",
    "    This algorithm take a vector as input and conducts insertion Sorting algorithm\n",
    "    Input:\n",
    "    arr: the input array\n",
    "    reverse: the order of sorting, True for descend while False for ascend. \n",
    "    Output:\n",
    "    newArr: the sorted array\n",
    "    '''\n",
    "    if reverse == True:\n",
    "        sign = -1\n",
    "    else:\n",
    "        sign = 1\n",
    "    newArr = np.array([],dtype='int')\n",
    "    for i in arr:\n",
    "        if newArr.shape[0] == 0:\n",
    "            newArr = np.append(newArr,i)\n",
    "        else:\n",
    "            arrLen = newArr.shape[0]\n",
    "            for ind,j in enumerate(newArr):\n",
    "                if sign * (j - i) < 0:\n",
    "                    if ind == arrLen -1:\n",
    "                        newArr = np.append(newArr,i)\n",
    "                    continue\n",
    "                else:\n",
    "                    newArr = np.insert(newArr,ind,i)\n",
    "                    break\n",
    "    return newArr\n",
    "\n",
    "def insertionSort_slow(arr,reverse=False):\n",
    "    if reverse == True:\n",
    "        sign = -1\n",
    "    else:\n",
    "        sign = 1\n",
    "    pCount = 0\n",
    "    arrLen = len(arr)\n",
    "    while(pCount!=arrLen):\n",
    "        curNum = arr[pCount]\n",
    "        if pCount == 0:\n",
    "            pCount += 1\n",
    "            continue\n",
    "        for ind,i in enumerate(arr[:pCount]):\n",
    "            if sign * (i - curNum) < 0:\n",
    "                continue\n",
    "            else:\n",
    "                arr = np.delete(arr,pCount)\n",
    "                arr = np.insert(arr,ind,curNum)\n",
    "                break\n",
    "        pCount += 1\n",
    "    return arr"
   ]
  },
  {
   "cell_type": "code",
   "execution_count": 98,
   "metadata": {},
   "outputs": [
    {
     "name": "stdout",
     "output_type": "stream",
     "text": [
      "0.007977659999999673\n",
      "0.00853822000000264\n"
     ]
    }
   ],
   "source": [
    "a = random.sample(range(0,1000),200)\n",
    "sumN = 0\n",
    "for i in range(100):\n",
    "    startT = time.clock()\n",
    "    insertionSort_slow(a,True)\n",
    "    endT = time.clock()\n",
    "    sumN += endT-startT\n",
    "print(sumN / 100)\n",
    "\n",
    "sumN = 0\n",
    "for i in range(100):\n",
    "    startT = time.clock()\n",
    "    insertionSort(a,True)\n",
    "    endT = time.clock()\n",
    "    sumN += endT-startT\n",
    "print(sumN / 100)"
   ]
  },
  {
   "cell_type": "markdown",
   "metadata": {},
   "source": [
    "这两个算法的时间复杂度都是$O(n^2)$. 其中，第一个算法利用一个新的数组存储排序好的数字，第二个算法在原数组上进行删除和插入的操作。从结果来看，删除和插入会耗费更多的时间（时间换空间）\n"
   ]
  }
 ],
 "metadata": {
  "kernelspec": {
   "display_name": "Python 3",
   "language": "python",
   "name": "python3"
  },
  "language_info": {
   "codemirror_mode": {
    "name": "ipython",
    "version": 3
   },
   "file_extension": ".py",
   "mimetype": "text/x-python",
   "name": "python",
   "nbconvert_exporter": "python",
   "pygments_lexer": "ipython3",
   "version": "3.6.7"
  }
 },
 "nbformat": 4,
 "nbformat_minor": 2
}
