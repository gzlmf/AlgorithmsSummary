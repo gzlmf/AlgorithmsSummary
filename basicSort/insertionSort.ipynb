{
 "cells": [
  {
   "cell_type": "code",
   "execution_count": 1,
   "metadata": {},
   "outputs": [],
   "source": [
    "import random\n",
    "import time"
   ]
  },
  {
   "cell_type": "code",
   "execution_count": 2,
   "metadata": {},
   "outputs": [],
   "source": [
    "def insertionSort(arr,descend=False):\n",
    "    '''\n",
    "    This algorithm take a vector as input and conducts insertion Sorting algorithm\n",
    "    Input:\n",
    "    arr: the input array\n",
    "    descend: the order of sorting, True for descend while False for ascend, default is ascend.\n",
    "    Output:\n",
    "    arr: the sorted array\n",
    "    简单说，插入排序就是从前往后一个元素一个元素地和前面已经排序好的数组比较。因为当前元素之前的数字都是排序好的，所以只有找到对的位置，\n",
    "    就可以直接插入进去，故而为插入排序。最换情况下为数组全部倒序，时间复杂度是n平方，最好是已经排序好，时间复杂度为n。平均时间是n平方\n",
    "    '''\n",
    "    if descend == True:\n",
    "        sign = -1\n",
    "    else:\n",
    "        sign = 1\n",
    "    for i in range(len(arr)):\n",
    "        for j in range(i-1,-1,-1):\n",
    "            if sign * (arr[j] - arr[j+1]) > 0:\n",
    "                tmp = arr[j]\n",
    "                arr[j] = arr[j+1]\n",
    "                arr[j+1] = tmp\n",
    "    return arr"
   ]
  },
  {
   "cell_type": "code",
   "execution_count": 16,
   "metadata": {},
   "outputs": [],
   "source": [
    "a = random.sample(range(0,10000),200)"
   ]
  },
  {
   "cell_type": "code",
   "execution_count": 17,
   "metadata": {},
   "outputs": [
    {
     "name": "stdout",
     "output_type": "stream",
     "text": [
      "0.0023123699999996177\n"
     ]
    }
   ],
   "source": [
    "sumN = 0\n",
    "for i in range(1000):\n",
    "    startT = time.clock()\n",
    "    insertionSort(a,True)\n",
    "    endT = time.clock()\n",
    "    sumN += endT-startT\n",
    "print(sumN / 1000)"
   ]
  },
  {
   "cell_type": "markdown",
   "metadata": {},
   "source": [
    "这两个算法的时间复杂度都是$O(n^2)$. 其中，第一个算法利用一个新的数组存储排序好的数字，第二个算法在原数组上进行删除和插入的操作。从结果来看，删除和插入会耗费更多的时间（时间换空间）\n"
   ]
  }
 ],
 "metadata": {
  "kernelspec": {
   "display_name": "Python 3",
   "language": "python",
   "name": "python3"
  },
  "language_info": {
   "codemirror_mode": {
    "name": "ipython",
    "version": 3
   },
   "file_extension": ".py",
   "mimetype": "text/x-python",
   "name": "python",
   "nbconvert_exporter": "python",
   "pygments_lexer": "ipython3",
   "version": "3.6.7"
  }
 },
 "nbformat": 4,
 "nbformat_minor": 2
}
