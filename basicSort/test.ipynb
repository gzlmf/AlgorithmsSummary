{
 "cells": [
  {
   "cell_type": "code",
   "execution_count": 1,
   "metadata": {},
   "outputs": [
    {
     "name": "stdout",
     "output_type": "stream",
     "text": [
      "[475, 979, 728, 268, 621, 198, 353, 549, 351, 47, 229, 249, 259, 832, 684, 739, 414, 359, 424, 69, 760, 83, 7, 183, 532, 846, 4, 297, 660, 957, 720, 126, 348, 62, 432, 305, 383, 646, 995, 59]\n"
     ]
    }
   ],
   "source": [
    "from Sorter import *\n",
    "import random\n",
    "a = random.sample(range(0,1000),40)\n",
    "print(a)"
   ]
  },
  {
   "cell_type": "code",
   "execution_count": 2,
   "metadata": {},
   "outputs": [
    {
     "name": "stdout",
     "output_type": "stream",
     "text": [
      "[995, 979, 957, 846, 832, 760, 739, 728, 720, 684, 660, 646, 621, 549, 532, 475, 432, 424, 414, 383, 359, 353, 351, 348, 305, 297, 268, 259, 249, 229, 198, 183, 126, 83, 69, 62, 59, 47, 7, 4]\n",
      "[995, 979, 957, 846, 832, 760, 739, 728, 720, 684, 660, 646, 621, 549, 532, 475, 432, 424, 414, 383, 359, 353, 351, 348, 305, 297, 268, 259, 249, 229, 198, 183, 126, 83, 69, 62, 59, 47, 7, 4]\n",
      "[995, 979, 957, 846, 832, 760, 739, 728, 720, 684, 660, 646, 621, 549, 532, 475, 432, 424, 414, 383, 359, 353, 351, 348, 305, 297, 268, 259, 249, 229, 198, 183, 126, 83, 69, 62, 59, 47, 7, 4]\n",
      "[995, 979, 957, 846, 832, 760, 739, 728, 720, 684, 660, 646, 621, 549, 532, 475, 432, 424, 414, 383, 359, 353, 351, 348, 305, 297, 268, 259, 249, 229, 198, 183, 126, 83, 69, 62, 59, 47, 7, 4]\n"
     ]
    }
   ],
   "source": [
    "sorter = Sorter()\n",
    "print(sorter.heapSort(a,True))\n",
    "print(sorter.insertionSort(a,True))\n",
    "print(sorter.shellSort(a,descend=True))\n",
    "print(sorter.selectSort(a,True))"
   ]
  },
  {
   "cell_type": "code",
   "execution_count": null,
   "metadata": {},
   "outputs": [],
   "source": []
  }
 ],
 "metadata": {
  "kernelspec": {
   "display_name": "Python 3",
   "language": "python",
   "name": "python3"
  },
  "language_info": {
   "codemirror_mode": {
    "name": "ipython",
    "version": 3
   },
   "file_extension": ".py",
   "mimetype": "text/x-python",
   "name": "python",
   "nbconvert_exporter": "python",
   "pygments_lexer": "ipython3",
   "version": "3.6.7"
  }
 },
 "nbformat": 4,
 "nbformat_minor": 2
}
