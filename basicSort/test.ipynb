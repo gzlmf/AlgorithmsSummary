{
 "cells": [
  {
   "cell_type": "code",
   "execution_count": 13,
   "metadata": {},
   "outputs": [
    {
     "name": "stdout",
     "output_type": "stream",
     "text": [
      "[24, 566, 488, 622, 679, 277, 45, 637, 539, 169, 502, 21, 616, 267, 993, 772, 200, 106, 582, 145, 127, 360, 863, 928, 180, 731, 627, 711, 755, 251, 77, 541, 58, 302, 300, 382, 179, 232, 262, 589, 684, 648, 563, 866, 391, 42, 771, 296, 829, 914, 217, 453, 640, 338, 930, 33, 848, 689, 979, 590, 423, 292, 5, 900, 311, 283, 851, 806, 64, 887, 273, 202, 897, 26, 48, 384, 196, 469, 12, 386, 216, 407, 29, 401, 853, 517, 417, 893, 757, 184, 708, 991, 295, 305, 738, 389, 93, 975, 190, 476]\n"
     ]
    }
   ],
   "source": [
    "from Sorter import *\n",
    "import random\n",
    "import time\n",
    "a = random.sample(range(0,1000),100)\n",
    "print(a)"
   ]
  },
  {
   "cell_type": "code",
   "execution_count": 8,
   "metadata": {},
   "outputs": [
    {
     "name": "stdout",
     "output_type": "stream",
     "text": [
      "堆排序 [973, 949, 925, 899, 897, 884, 879, 833, 832, 805, 792, 777, 726, 673, 655, 617, 608, 597, 547, 479, 459, 430, 412, 380, 353, 348, 330, 302, 301, 294, 280, 266, 216, 205, 204, 153, 134, 123, 80, 65]\n",
      "0.0007229999999999182\n",
      "插入排序 [973, 949, 925, 899, 897, 884, 879, 833, 832, 805, 792, 777, 726, 673, 655, 617, 608, 597, 547, 479, 459, 430, 412, 380, 353, 348, 330, 302, 301, 294, 280, 266, 216, 205, 204, 153, 134, 123, 80, 65]\n",
      "0.0003269999999999662\n",
      "希尔排序 [973, 949, 925, 899, 897, 884, 879, 833, 832, 805, 792, 777, 726, 673, 655, 617, 608, 597, 547, 479, 459, 430, 412, 380, 353, 348, 330, 302, 301, 294, 280, 266, 216, 205, 204, 153, 134, 123, 80, 65]\n",
      "0.0003570000000000517\n",
      "选择排序 [973, 949, 925, 899, 897, 884, 879, 833, 832, 805, 792, 777, 726, 673, 655, 617, 608, 597, 547, 479, 459, 430, 412, 380, 353, 348, 330, 302, 301, 294, 280, 266, 216, 205, 204, 153, 134, 123, 80, 65]\n",
      "0.00034400000000001096\n",
      "冒泡排序 [973, 949, 925, 899, 897, 884, 879, 833, 832, 805, 792, 777, 726, 673, 655, 617, 608, 597, 547, 479, 459, 430, 412, 380, 353, 348, 330, 302, 301, 294, 280, 266, 216, 205, 204, 153, 134, 123, 80, 65]\n",
      "0.0002670000000000172\n",
      "快速排序 [973, 949, 925, 899, 897, 884, 879, 833, 832, 805, 792, 777, 726, 673, 655, 617, 608, 597, 547, 479, 459, 430, 412, 380, 353, 348, 330, 302, 301, 294, 280, 266, 216, 205, 204, 153, 134, 123, 80, 65]\n",
      "0.0003490000000000437\n",
      "归并排序 [973, 949, 925, 899, 897, 884, 879, 833, 832, 805, 792, 777, 726, 673, 655, 617, 608, 597, 547, 479, 459, 430, 412, 380, 353, 348, 330, 302, 301, 294, 280, 266, 216, 205, 204, 153, 134, 123, 80, 65]\n",
      "0.00021999999999999797\n",
      "基数排序 [973, 949, 925, 899, 897, 884, 879, 833, 832, 805, 792, 777, 726, 673, 655, 617, 608, 597, 547, 479, 459, 430, 412, 380, 353, 348, 330, 302, 301, 294, 280, 266, 216, 205, 204, 153, 134, 123, 80, 65]\n",
      "0.00018399999999996197\n"
     ]
    }
   ],
   "source": [
    "sorter = Sorter()\n",
    "flag = True\n",
    "start = time.clock()\n",
    "print('堆排序',sorter.heapSort(a,flag))\n",
    "print(time.clock()-start)\n",
    "start = time.clock()\n",
    "print('插入排序',sorter.insertionSort(a,flag))\n",
    "print(time.clock()-start)\n",
    "start = time.clock()\n",
    "print('希尔排序',sorter.shellSort(a,descend=flag))\n",
    "print(time.clock()-start)\n",
    "start = time.clock()\n",
    "print('选择排序',sorter.selectSort(a,flag))\n",
    "print(time.clock()-start)\n",
    "start = time.clock()\n",
    "print('冒泡排序',sorter.bubbleSort(a,flag))\n",
    "print(time.clock()-start)\n",
    "start = time.clock()\n",
    "print('快速排序',sorter.quickSort(a,0,len(a)-1,flag))\n",
    "print(time.clock()-start)\n",
    "start = time.clock()\n",
    "print('归并排序',sorter.mergeSort(a,0,len(a)-1,flag))\n",
    "print(time.clock()-start)\n",
    "start = time.clock()\n",
    "print('基数排序',sorter.radixSort(a,flag))\n",
    "print(time.clock()-start)\n",
    "start = time.clock()"
   ]
  },
  {
   "cell_type": "code",
   "execution_count": 14,
   "metadata": {},
   "outputs": [
    {
     "name": "stdout",
     "output_type": "stream",
     "text": [
      "0.0004509999999999792\n",
      "0.0008600000000000829\n",
      "0.0012220000000000564\n",
      "0.0006930000000000547\n",
      "0.0006999999999999229\n",
      "0.0017380000000000173\n",
      "0.000320000000000098\n",
      "0.00019199999999996997\n"
     ]
    }
   ],
   "source": [
    "sorter = Sorter()\n",
    "flag = True\n",
    "start = time.clock()\n",
    "sorter.heapSort(a,flag)\n",
    "print(time.clock()-start)\n",
    "start = time.clock()\n",
    "sorter.insertionSort(a,flag)\n",
    "print(time.clock()-start)\n",
    "start = time.clock()\n",
    "sorter.shellSort(a,descend=flag)\n",
    "print(time.clock()-start)\n",
    "start = time.clock()\n",
    "sorter.selectSort(a,flag)\n",
    "print(time.clock()-start)\n",
    "start = time.clock()\n",
    "sorter.bubbleSort(a,flag)\n",
    "print(time.clock()-start)\n",
    "start = time.clock()\n",
    "sorter.quickSort(a,0,len(a)-1,flag)\n",
    "print(time.clock()-start)\n",
    "start = time.clock()\n",
    "sorter.mergeSort(a,0,len(a)-1,flag)\n",
    "print(time.clock()-start)\n",
    "start = time.clock()\n",
    "sorter.radixSort(a,flag)\n",
    "print(time.clock()-start)\n",
    "start = time.clock()"
   ]
  },
  {
   "cell_type": "code",
   "execution_count": null,
   "metadata": {},
   "outputs": [],
   "source": []
  }
 ],
 "metadata": {
  "kernelspec": {
   "display_name": "Python 3",
   "language": "python",
   "name": "python3"
  },
  "language_info": {
   "codemirror_mode": {
    "name": "ipython",
    "version": 3
   },
   "file_extension": ".py",
   "mimetype": "text/x-python",
   "name": "python",
   "nbconvert_exporter": "python",
   "pygments_lexer": "ipython3",
   "version": "3.6.7"
  }
 },
 "nbformat": 4,
 "nbformat_minor": 2
}
