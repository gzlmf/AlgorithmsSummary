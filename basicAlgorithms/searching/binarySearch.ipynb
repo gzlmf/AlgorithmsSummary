{
 "cells": [
  {
   "cell_type": "code",
   "execution_count": 7,
   "metadata": {},
   "outputs": [],
   "source": [
    "from Sorter import *"
   ]
  },
  {
   "cell_type": "code",
   "execution_count": 8,
   "metadata": {},
   "outputs": [],
   "source": [
    "def binarySearch(arr, start, end, keyword):\n",
    "    '''\n",
    "    This is binary search algorithm\n",
    "    Input:\n",
    "    arr: sorted array\n",
    "    start: the start position of searching range\n",
    "    end: the end position of searching range\n",
    "    keyword: the target word\n",
    "    Output:\n",
    "    pos: the position of target value\n",
    "    利用循环或者递归来二等分数组，从而降低查找的次数，但是传入的数组必须是有序的。\n",
    "    '''\n",
    "    medium = int((start + end)/2)\n",
    "    if arr[medium] == keyword:\n",
    "        return medium\n",
    "    if arr[medium] < keyword:\n",
    "        return binarySearch(arr,medium+1,end,keyword)\n",
    "    elif arr[medium] > keyword:\n",
    "        return binarySearch(arr,start, medium, keyword)\n"
   ]
  },
  {
   "cell_type": "code",
   "execution_count": 9,
   "metadata": {},
   "outputs": [
    {
     "name": "stdout",
     "output_type": "stream",
     "text": [
      "True\n"
     ]
    }
   ],
   "source": [
    "import random\n",
    "keyW = random.randint(0,1000)\n",
    "num = 200\n",
    "pos = random.randint(0,num)\n",
    "a = random.sample(range(0,10000),num)\n",
    "a.insert(pos,keyW)\n",
    "sorter = Sorter()\n",
    "a = sorter.radixSort(a)\n",
    "findP = binarySearch(a,0,len(a),keyW)\n",
    "if keyW == a[findP]:\n",
    "    print(True)"
   ]
  },
  {
   "cell_type": "code",
   "execution_count": null,
   "metadata": {},
   "outputs": [],
   "source": []
  }
 ],
 "metadata": {
  "kernelspec": {
   "display_name": "Python 3",
   "language": "python",
   "name": "python3"
  },
  "language_info": {
   "codemirror_mode": {
    "name": "ipython",
    "version": 3
   },
   "file_extension": ".py",
   "mimetype": "text/x-python",
   "name": "python",
   "nbconvert_exporter": "python",
   "pygments_lexer": "ipython3",
   "version": "3.6.7"
  }
 },
 "nbformat": 4,
 "nbformat_minor": 2
}
