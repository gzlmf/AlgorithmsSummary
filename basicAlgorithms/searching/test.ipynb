{
 "cells": [
  {
   "cell_type": "code",
   "execution_count": 1,
   "metadata": {},
   "outputs": [],
   "source": [
    "from BinaryTree import *\n",
    "import random"
   ]
  },
  {
   "cell_type": "code",
   "execution_count": 2,
   "metadata": {},
   "outputs": [
    {
     "name": "stdout",
     "output_type": "stream",
     "text": [
      "[1, 3, 8, 18, 21, 27, 31, 32, 34, 43, 49, 53, 56, 63, 70, 74, 81, 82, 88, 94]\n"
     ]
    }
   ],
   "source": [
    "#测试二叉树创建和排序\n",
    "a = random.sample(range(0,100),20)\n",
    "tree = BinaryTree(a)\n",
    "print(tree.sortTree())"
   ]
  },
  {
   "cell_type": "code",
   "execution_count": 3,
   "metadata": {},
   "outputs": [
    {
     "name": "stdout",
     "output_type": "stream",
     "text": [
      "True\n"
     ]
    }
   ],
   "source": [
    "#测试二叉树查找\n",
    "a = random.sample(range(0,10000),5000)\n",
    "tree = BinaryTree(a)\n",
    "rand = random.randint(0,5000)\n",
    "if a[rand] == tree.searchTree(a[rand]).data:\n",
    "    print(True)"
   ]
  },
  {
   "cell_type": "code",
   "execution_count": 4,
   "metadata": {},
   "outputs": [
    {
     "name": "stdout",
     "output_type": "stream",
     "text": [
      "[]\n"
     ]
    }
   ],
   "source": [
    "#测试二叉树删除\n",
    "a = random.sample(range(0,10000),10000)\n",
    "s = random.sample(range(0,10000),10000)\n",
    "tree = BinaryTree(a)\n",
    "for i in s:\n",
    "    tree.deleteNode(a[i])\n",
    "print(tree.sortTree())#若为空则全部删除成功，如出现有一个则证明树的结构被破坏"
   ]
  },
  {
   "cell_type": "code",
   "execution_count": null,
   "metadata": {},
   "outputs": [],
   "source": []
  }
 ],
 "metadata": {
  "kernelspec": {
   "display_name": "Python 3",
   "language": "python",
   "name": "python3"
  },
  "language_info": {
   "codemirror_mode": {
    "name": "ipython",
    "version": 3
   },
   "file_extension": ".py",
   "mimetype": "text/x-python",
   "name": "python",
   "nbconvert_exporter": "python",
   "pygments_lexer": "ipython3",
   "version": "3.6.7"
  }
 },
 "nbformat": 4,
 "nbformat_minor": 2
}
