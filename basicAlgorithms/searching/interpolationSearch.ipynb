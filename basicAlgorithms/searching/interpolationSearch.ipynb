{
 "cells": [
  {
   "cell_type": "code",
   "execution_count": 8,
   "metadata": {},
   "outputs": [],
   "source": [
    "def interpolationSearch(arr, start, end, keyword):\n",
    "    while(start < end):\n",
    "        medium = int(start + ((keyword - arr[start]) / (arr[end] - arr[start])) * (end - start))\n",
    "        if arr[medium] == keyword:\n",
    "            return medium\n",
    "        if arr[medium] < keyword:\n",
    "            start = medium + 1\n",
    "        elif arr[medium] > keyword:\n",
    "            end = medium\n",
    "    print('no found')"
   ]
  },
  {
   "cell_type": "code",
   "execution_count": 11,
   "metadata": {},
   "outputs": [
    {
     "name": "stdout",
     "output_type": "stream",
     "text": [
      "no found\n"
     ]
    }
   ],
   "source": [
    "a = [1,2,3,4,5]\n",
    "interpolationSearch(a,0,len(a)-1,0)"
   ]
  },
  {
   "cell_type": "code",
   "execution_count": null,
   "metadata": {},
   "outputs": [],
   "source": []
  }
 ],
 "metadata": {
  "kernelspec": {
   "display_name": "Python 3",
   "language": "python",
   "name": "python3"
  },
  "language_info": {
   "codemirror_mode": {
    "name": "ipython",
    "version": 3
   },
   "file_extension": ".py",
   "mimetype": "text/x-python",
   "name": "python",
   "nbconvert_exporter": "python",
   "pygments_lexer": "ipython3",
   "version": "3.6.7"
  }
 },
 "nbformat": 4,
 "nbformat_minor": 2
}
