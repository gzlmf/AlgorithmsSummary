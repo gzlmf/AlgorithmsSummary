{
 "cells": [
  {
   "cell_type": "code",
   "execution_count": 178,
   "metadata": {},
   "outputs": [],
   "source": [
    "import random\n",
    "import math\n",
    "\n",
    "def adjustHeap(arr,curP,sign):\n",
    "    lChild = 2 * curP + 1\n",
    "    rChild = 2 * curP + 2\n",
    "    largest = curP\n",
    "    if lChild < arrLen and sign* (arr[lChild] - arr[largest]) > 0:\n",
    "        largest = lChild\n",
    "    if rChild < arrLen and sign * (arr[rChild] - arr[largest]) > 0:\n",
    "        largest = rChild\n",
    "    if largest != curP:\n",
    "        tmp = arr[largest]\n",
    "        arr[largest] = arr[curP]\n",
    "        arr[curP] = tmp\n",
    "        adjustHeap(arr,largest,sign)\n",
    "    \n",
    "def buildHeap(arr,sign):\n",
    "    layer = int(math.log2(len(arr)+1))\n",
    "    sRange = int(math.pow(2,layer) - 1)\n",
    "    for i in range(sRange,-1,-1):\n",
    "        adjustHeap(arr,i,sign)\n",
    "        \n",
    "def heapSort(arr,descend=False):\n",
    "    '''\n",
    "    This algorithm is Heap sorting algorithm\n",
    "    Input:\n",
    "    arr: input array\n",
    "    descend: the order of sorting, True for descend while False for ascend, default is ascend.\n",
    "    堆排序最重要的就是要保持最大（最小）堆的性质，通过二叉树的性质找到子结点。这样就可以减少遍历的次数。整体步骤是：1.构建最大（最小）堆机构，2.将第一个和最后一个交换，3.此时最后一个为已排序\n",
    "    4.剩下未排序的数字除了第一个外都是满足堆性质的，所以将第一个与其子节点比较并与最大者交换，直到他就是最大者。5.以此类推解决所有数字。\n",
    "    '''\n",
    "    if descend == True:\n",
    "        sign = -1\n",
    "    else:\n",
    "        sign = 1\n",
    "    global arrLen\n",
    "    arrLen = len(arr)\n",
    "    buildHeap(arr,sign)\n",
    "    for i in range(arrLen-1,0,-1):\n",
    "        tmp = arr[0]\n",
    "        arr[0] = arr[i]\n",
    "        arr[i] = tmp\n",
    "        arrLen -= 1\n",
    "        adjustHeap(arr,0,sign)\n",
    "    return arr\n",
    "    "
   ]
  },
  {
   "cell_type": "code",
   "execution_count": 187,
   "metadata": {},
   "outputs": [
    {
     "name": "stdout",
     "output_type": "stream",
     "text": [
      "[7, 10, 11, 12, 15, 19, 20, 23, 24, 25, 28, 32, 33, 36, 50, 58, 61, 65, 70, 73, 80, 85, 88, 90, 94, 102, 104, 106, 108, 110, 111, 118, 120, 126, 134, 141, 143, 147, 149, 152, 155, 161, 173, 177, 178, 183, 188, 205, 211, 219, 220, 221, 226, 236, 243, 249, 252, 259, 269, 272, 276, 284, 287, 295, 302, 305, 312, 313, 319, 348, 349, 357, 360, 363, 373, 382, 388, 393, 394, 396, 407, 412, 416, 417, 423, 431, 448, 449, 450, 452, 453, 456, 461, 466, 467, 498, 505, 508, 513, 517, 530, 534, 538, 544, 548, 555, 556, 557, 559, 561, 566, 569, 572, 575, 577, 583, 585, 587, 589, 595, 599, 606, 608, 609, 612, 616, 619, 621, 623, 625, 630, 632, 643, 645, 648, 649, 652, 655, 660, 665, 669, 674, 676, 679, 680, 683, 684, 688, 691, 693, 696, 702, 704, 718, 722, 727, 730, 735, 740, 747, 750, 753, 756, 765, 767, 775, 795, 797, 804, 816, 817, 818, 836, 844, 859, 864, 869, 874, 875, 877, 894, 903, 907, 909, 912, 918, 924, 926, 930, 935, 939, 946, 954, 958, 959, 968, 978, 986, 990, 995]\n"
     ]
    }
   ],
   "source": [
    "import numpy as np\n",
    "a = random.sample(range(0,1000),200)\n",
    "print(heapSort(a))"
   ]
  },
  {
   "cell_type": "code",
   "execution_count": null,
   "metadata": {},
   "outputs": [],
   "source": []
  }
 ],
 "metadata": {
  "kernelspec": {
   "display_name": "Python 3",
   "language": "python",
   "name": "python3"
  },
  "language_info": {
   "codemirror_mode": {
    "name": "ipython",
    "version": 3
   },
   "file_extension": ".py",
   "mimetype": "text/x-python",
   "name": "python",
   "nbconvert_exporter": "python",
   "pygments_lexer": "ipython3",
   "version": "3.6.7"
  }
 },
 "nbformat": 4,
 "nbformat_minor": 2
}
