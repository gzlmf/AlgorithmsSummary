{
 "cells": [
  {
   "cell_type": "code",
   "execution_count": 28,
   "metadata": {},
   "outputs": [],
   "source": [
    "def mergeSort(arr,start,end,descend=False):\n",
    "    '''\n",
    "    This algorithm is merge sort algorithm\n",
    "    Input:\n",
    "    arr: the input array\n",
    "    start: the start position of slide\n",
    "    end: the end position of slide\n",
    "    descend: the order of sorting, True for descend while False for ascend, default is ascend.\n",
    "    Output:\n",
    "    arr: the sorted array\n",
    "    归并排序是分治法的极致，先将数组分割到最小单元（一组一个数字）然后两两合并成一个有序组（1到2），然后一直合并（2到4，4到8。。。）。 \n",
    "    主要利用递归来进行。时间复杂度是nlog2(n)\n",
    "    '''\n",
    "    if descend == True:\n",
    "        sign = -1\n",
    "    else:\n",
    "        sign = 1\n",
    "    if start == end:\n",
    "        return [arr[start]]\n",
    "    medium = int((start+end)/2)\n",
    "    part1 = mergeSort(arr,start, medium , descend)\n",
    "    part2 = mergeSort(arr, medium + 1, end ,descend)\n",
    "    merge = []\n",
    "    j = 0\n",
    "    for i in part1:\n",
    "        while(j < len(part2) and sign * (part2[j] - i) < 0):\n",
    "            merge.append(part2[j])\n",
    "            j += 1\n",
    "        merge.append(i)\n",
    "    while(j<len(part2)):\n",
    "        merge.append(part2[j])\n",
    "        j += 1\n",
    "    return merge\n",
    "        "
   ]
  },
  {
   "cell_type": "code",
   "execution_count": 32,
   "metadata": {},
   "outputs": [
    {
     "name": "stdout",
     "output_type": "stream",
     "text": [
      "[910, 903, 885, 814, 719, 650, 622, 599, 564, 562, 546, 483, 355, 255, 236, 232, 181, 142, 115, 83]\n"
     ]
    }
   ],
   "source": [
    "import random\n",
    "a = random.sample(range(0,1000),20)\n",
    "print(mergeSort(a,0,len(a)-1,True))"
   ]
  },
  {
   "cell_type": "code",
   "execution_count": 13,
   "metadata": {},
   "outputs": [
    {
     "ename": "TypeError",
     "evalue": "object of type 'int' has no len()",
     "output_type": "error",
     "traceback": [
      "\u001b[0;31m---------------------------------------------------------------------------\u001b[0m",
      "\u001b[0;31mTypeError\u001b[0m                                 Traceback (most recent call last)",
      "\u001b[0;32m<ipython-input-13-1cf91bb60cc0>\u001b[0m in \u001b[0;36m<module>\u001b[0;34m\u001b[0m\n\u001b[0;32m----> 1\u001b[0;31m \u001b[0mlen\u001b[0m\u001b[0;34m(\u001b[0m\u001b[0;36m1\u001b[0m\u001b[0;34m)\u001b[0m\u001b[0;34m\u001b[0m\u001b[0;34m\u001b[0m\u001b[0m\n\u001b[0m",
      "\u001b[0;31mTypeError\u001b[0m: object of type 'int' has no len()"
     ]
    }
   ],
   "source": []
  },
  {
   "cell_type": "code",
   "execution_count": null,
   "metadata": {},
   "outputs": [],
   "source": []
  }
 ],
 "metadata": {
  "kernelspec": {
   "display_name": "Python 3",
   "language": "python",
   "name": "python3"
  },
  "language_info": {
   "codemirror_mode": {
    "name": "ipython",
    "version": 3
   },
   "file_extension": ".py",
   "mimetype": "text/x-python",
   "name": "python",
   "nbconvert_exporter": "python",
   "pygments_lexer": "ipython3",
   "version": "3.6.7"
  }
 },
 "nbformat": 4,
 "nbformat_minor": 2
}
