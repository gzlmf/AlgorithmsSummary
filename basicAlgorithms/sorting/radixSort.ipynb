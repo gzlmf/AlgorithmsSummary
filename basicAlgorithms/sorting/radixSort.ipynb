{
 "cells": [
  {
   "cell_type": "code",
   "execution_count": 64,
   "metadata": {},
   "outputs": [],
   "source": [
    "def radixSort(arr,descend=False):\n",
    "    '''\n",
    "    This algorithm is radix sort algorithm（LSD）\n",
    "    Input:\n",
    "    arr: the input array\n",
    "    descend: the order of sorting, True for descend while False for ascend, default is ascend.\n",
    "    Output:\n",
    "    arr: the sorted array\n",
    "    这个算法核心在于多次将数字分类到代表不同数字的桶里面。从个位一直比较到最高位。这个算法的的时间复杂度是O(d(r+n)),其中,d是最大数的位数，r是基数（每一位数的范围，这里是0到9），\n",
    "    n是要排序的数的个数。\n",
    "    '''\n",
    "    flag = True\n",
    "    divend = 1\n",
    "    if descend == True:\n",
    "        numP = [9,-1,-1]\n",
    "    else:\n",
    "        numP = [0,10,1]\n",
    "    while(flag):\n",
    "        newArr = []\n",
    "        count = [0,0,0,0,0,0,0,0,0,0]\n",
    "        storeDict = {}\n",
    "        for i in range(10):\n",
    "            storeDict[i] = []\n",
    "        for i in arr:\n",
    "            base = i//divend%10\n",
    "            count[base] += 1\n",
    "            storeDict[base].append(i)\n",
    "        for i in range(numP[0],numP[1],numP[2]):\n",
    "            if count[i] > 0:\n",
    "                for j in storeDict[i]:\n",
    "                    newArr.append(j)\n",
    "        arr = newArr.copy()\n",
    "        divend *= 10\n",
    "        if count[0] == len(arr):\n",
    "            flag = False\n",
    "    return arr\n"
   ]
  },
  {
   "cell_type": "code",
   "execution_count": 65,
   "metadata": {},
   "outputs": [
    {
     "name": "stdout",
     "output_type": "stream",
     "text": [
      "[996, 995, 994, 979, 976, 973, 971, 968, 963, 962, 960, 956, 951, 949, 939, 936, 925, 916, 915, 910, 909, 907, 888, 886, 884, 874, 871, 868, 863, 861, 858, 852, 850, 840, 837, 832, 831, 830, 819, 814, 813, 806, 803, 796, 795, 790, 783, 778, 776, 774, 769, 765, 760, 759, 750, 749, 739, 738, 737, 726, 721, 720, 719, 714, 711, 709, 701, 700, 699, 698, 695, 692, 690, 675, 666, 659, 658, 645, 644, 630, 624, 623, 622, 621, 616, 614, 600, 596, 591, 586, 581, 564, 561, 543, 542, 524, 516, 504, 503, 496, 489, 483, 467, 458, 448, 443, 438, 436, 420, 419, 418, 415, 409, 404, 400, 392, 380, 379, 373, 366, 362, 343, 342, 340, 337, 334, 328, 326, 324, 321, 316, 314, 312, 311, 308, 303, 302, 297, 296, 292, 278, 277, 266, 264, 260, 258, 254, 253, 252, 250, 245, 239, 235, 232, 229, 226, 222, 218, 217, 214, 212, 210, 197, 195, 187, 182, 181, 166, 162, 161, 158, 157, 153, 151, 146, 137, 122, 113, 110, 108, 101, 99, 97, 88, 80, 79, 74, 69, 66, 63, 59, 50, 48, 37, 34, 32, 25, 24, 14, 6]\n"
     ]
    }
   ],
   "source": [
    "import random\n",
    "a = random.sample(range(0,1000),200)\n",
    "print(radixSort(a,True))"
   ]
  },
  {
   "cell_type": "code",
   "execution_count": 37,
   "metadata": {},
   "outputs": [
    {
     "data": {
      "text/plain": [
       "0"
      ]
     },
     "execution_count": 37,
     "metadata": {},
     "output_type": "execute_result"
    }
   ],
   "source": [
    "count = [0,0,0,0,0,0,0,0,0,0]\n",
    "sum(count)"
   ]
  },
  {
   "cell_type": "code",
   "execution_count": 60,
   "metadata": {},
   "outputs": [
    {
     "name": "stdout",
     "output_type": "stream",
     "text": [
      "0\n",
      "1\n",
      "2\n",
      "3\n",
      "4\n",
      "5\n",
      "6\n",
      "7\n",
      "8\n",
      "9\n"
     ]
    }
   ],
   "source": [
    "for i in range(0,10,1):\n",
    "    print(i)"
   ]
  },
  {
   "cell_type": "code",
   "execution_count": null,
   "metadata": {},
   "outputs": [],
   "source": []
  }
 ],
 "metadata": {
  "kernelspec": {
   "display_name": "Python 3",
   "language": "python",
   "name": "python3"
  },
  "language_info": {
   "codemirror_mode": {
    "name": "ipython",
    "version": 3
   },
   "file_extension": ".py",
   "mimetype": "text/x-python",
   "name": "python",
   "nbconvert_exporter": "python",
   "pygments_lexer": "ipython3",
   "version": "3.6.7"
  }
 },
 "nbformat": 4,
 "nbformat_minor": 2
}
