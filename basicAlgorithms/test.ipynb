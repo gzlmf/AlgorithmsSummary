{
 "cells": [
  {
   "cell_type": "code",
   "execution_count": 1,
   "metadata": {},
   "outputs": [
    {
     "name": "stdout",
     "output_type": "stream",
     "text": [
      "[815, 562, 870, 506, 241, 519, 585, 716, 612, 550, 696, 702, 51, 800, 857, 395, 232, 159, 391, 503, 963, 861, 145, 705, 57, 747, 186, 370, 23, 567, 22, 596, 134, 435, 881, 1, 799, 189, 461, 167, 68, 399, 571, 990, 713, 770, 521, 740, 214, 902, 510, 99, 279, 489, 338, 347, 866, 247, 783, 9, 245, 431, 66, 198, 18, 648, 761, 719, 645, 616, 787, 966, 50, 154, 642, 758, 507, 496, 788, 692, 877, 448, 572, 766, 400, 495, 221, 376, 681, 919, 89, 361, 226, 454, 38, 901, 826, 916, 421, 385]\n"
     ]
    }
   ],
   "source": [
    "from Sorter import *\n",
    "from Searcher import *\n",
    "import random\n",
    "import time\n",
    "a = random.sample(range(0,1000),100)\n",
    "print(a)"
   ]
  },
  {
   "cell_type": "code",
   "execution_count": 8,
   "metadata": {},
   "outputs": [
    {
     "name": "stdout",
     "output_type": "stream",
     "text": [
      "堆排序 [973, 949, 925, 899, 897, 884, 879, 833, 832, 805, 792, 777, 726, 673, 655, 617, 608, 597, 547, 479, 459, 430, 412, 380, 353, 348, 330, 302, 301, 294, 280, 266, 216, 205, 204, 153, 134, 123, 80, 65]\n",
      "0.0007229999999999182\n",
      "插入排序 [973, 949, 925, 899, 897, 884, 879, 833, 832, 805, 792, 777, 726, 673, 655, 617, 608, 597, 547, 479, 459, 430, 412, 380, 353, 348, 330, 302, 301, 294, 280, 266, 216, 205, 204, 153, 134, 123, 80, 65]\n",
      "0.0003269999999999662\n",
      "希尔排序 [973, 949, 925, 899, 897, 884, 879, 833, 832, 805, 792, 777, 726, 673, 655, 617, 608, 597, 547, 479, 459, 430, 412, 380, 353, 348, 330, 302, 301, 294, 280, 266, 216, 205, 204, 153, 134, 123, 80, 65]\n",
      "0.0003570000000000517\n",
      "选择排序 [973, 949, 925, 899, 897, 884, 879, 833, 832, 805, 792, 777, 726, 673, 655, 617, 608, 597, 547, 479, 459, 430, 412, 380, 353, 348, 330, 302, 301, 294, 280, 266, 216, 205, 204, 153, 134, 123, 80, 65]\n",
      "0.00034400000000001096\n",
      "冒泡排序 [973, 949, 925, 899, 897, 884, 879, 833, 832, 805, 792, 777, 726, 673, 655, 617, 608, 597, 547, 479, 459, 430, 412, 380, 353, 348, 330, 302, 301, 294, 280, 266, 216, 205, 204, 153, 134, 123, 80, 65]\n",
      "0.0002670000000000172\n",
      "快速排序 [973, 949, 925, 899, 897, 884, 879, 833, 832, 805, 792, 777, 726, 673, 655, 617, 608, 597, 547, 479, 459, 430, 412, 380, 353, 348, 330, 302, 301, 294, 280, 266, 216, 205, 204, 153, 134, 123, 80, 65]\n",
      "0.0003490000000000437\n",
      "归并排序 [973, 949, 925, 899, 897, 884, 879, 833, 832, 805, 792, 777, 726, 673, 655, 617, 608, 597, 547, 479, 459, 430, 412, 380, 353, 348, 330, 302, 301, 294, 280, 266, 216, 205, 204, 153, 134, 123, 80, 65]\n",
      "0.00021999999999999797\n",
      "基数排序 [973, 949, 925, 899, 897, 884, 879, 833, 832, 805, 792, 777, 726, 673, 655, 617, 608, 597, 547, 479, 459, 430, 412, 380, 353, 348, 330, 302, 301, 294, 280, 266, 216, 205, 204, 153, 134, 123, 80, 65]\n",
      "0.00018399999999996197\n"
     ]
    }
   ],
   "source": [
    "sorter = Sorter()\n",
    "flag = True\n",
    "start = time.clock()\n",
    "print('堆排序',sorter.heapSort(a,flag))\n",
    "print(time.clock()-start)\n",
    "start = time.clock()\n",
    "print('插入排序',sorter.insertionSort(a,flag))\n",
    "print(time.clock()-start)\n",
    "start = time.clock()\n",
    "print('希尔排序',sorter.shellSort(a,descend=flag))\n",
    "print(time.clock()-start)\n",
    "start = time.clock()\n",
    "print('选择排序',sorter.selectSort(a,flag))\n",
    "print(time.clock()-start)\n",
    "start = time.clock()\n",
    "print('冒泡排序',sorter.bubbleSort(a,flag))\n",
    "print(time.clock()-start)\n",
    "start = time.clock()\n",
    "print('快速排序',sorter.quickSort(a,0,len(a)-1,flag))\n",
    "print(time.clock()-start)\n",
    "start = time.clock()\n",
    "print('归并排序',sorter.mergeSort(a,0,len(a)-1,flag))\n",
    "print(time.clock()-start)\n",
    "start = time.clock()\n",
    "print('基数排序',sorter.radixSort(a,flag))\n",
    "print(time.clock()-start)\n",
    "start = time.clock()"
   ]
  },
  {
   "cell_type": "code",
   "execution_count": 14,
   "metadata": {},
   "outputs": [
    {
     "name": "stdout",
     "output_type": "stream",
     "text": [
      "0.0004509999999999792\n",
      "0.0008600000000000829\n",
      "0.0012220000000000564\n",
      "0.0006930000000000547\n",
      "0.0006999999999999229\n",
      "0.0017380000000000173\n",
      "0.000320000000000098\n",
      "0.00019199999999996997\n"
     ]
    }
   ],
   "source": [
    "sorter = Sorter()\n",
    "flag = True\n",
    "start = time.clock()\n",
    "sorter.heapSort(a,flag)\n",
    "print(time.clock()-start)\n",
    "start = time.clock()\n",
    "sorter.insertionSort(a,flag)\n",
    "print(time.clock()-start)\n",
    "start = time.clock()\n",
    "sorter.shellSort(a,descend=flag)\n",
    "print(time.clock()-start)\n",
    "start = time.clock()\n",
    "sorter.selectSort(a,flag)\n",
    "print(time.clock()-start)\n",
    "start = time.clock()\n",
    "sorter.bubbleSort(a,flag)\n",
    "print(time.clock()-start)\n",
    "start = time.clock()\n",
    "sorter.quickSort(a,0,len(a)-1,flag)\n",
    "print(time.clock()-start)\n",
    "start = time.clock()\n",
    "sorter.mergeSort(a,0,len(a)-1,flag)\n",
    "print(time.clock()-start)\n",
    "start = time.clock()\n",
    "sorter.radixSort(a,flag)\n",
    "print(time.clock()-start)\n",
    "start = time.clock()"
   ]
  },
  {
   "cell_type": "code",
   "execution_count": 2,
   "metadata": {},
   "outputs": [],
   "source": [
    "keyW = random.randint(0,1000)\n",
    "num = 200\n",
    "pos = random.randint(0,num)\n",
    "a = random.sample(range(0,10000),num)\n",
    "a.insert(pos,keyW)\n",
    "sorter = Sorter()\n",
    "a = sorter.radixSort(a)\n",
    "searcher = Searcher()"
   ]
  },
  {
   "cell_type": "code",
   "execution_count": 3,
   "metadata": {},
   "outputs": [
    {
     "name": "stdout",
     "output_type": "stream",
     "text": [
      "True\n",
      "True\n"
     ]
    }
   ],
   "source": [
    "findP = searcher.binarySearch(a,0,len(a)-1,keyW)\n",
    "if keyW == a[findP]:\n",
    "    print(True)\n",
    "findP = searcher.interpolationSearch(a,0,len(a)-1,keyW)\n",
    "if keyW == a[findP]:\n",
    "    print(True)"
   ]
  },
  {
   "cell_type": "code",
   "execution_count": null,
   "metadata": {},
   "outputs": [],
   "source": []
  }
 ],
 "metadata": {
  "kernelspec": {
   "display_name": "Python 3",
   "language": "python",
   "name": "python3"
  },
  "language_info": {
   "codemirror_mode": {
    "name": "ipython",
    "version": 3
   },
   "file_extension": ".py",
   "mimetype": "text/x-python",
   "name": "python",
   "nbconvert_exporter": "python",
   "pygments_lexer": "ipython3",
   "version": "3.6.7"
  }
 },
 "nbformat": 4,
 "nbformat_minor": 2
}
